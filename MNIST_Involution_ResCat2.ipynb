{
 "cells": [
  {
   "cell_type": "code",
   "execution_count": 1,
   "id": "fb5ef395",
   "metadata": {},
   "outputs": [],
   "source": [
    "import os\n",
    "import cv2\n",
    "import numpy as np\n",
    "import tensorflow.keras as keras\n",
    "import tensorflow as tf\n",
    "from tensorflow.keras.layers import Lambda,Dense,ReLU,MaxPooling2D,Flatten,Add\n",
    "from tensorflow.keras.layers import Dense,Input,MaxPool2D,Conv2D,Dropout,Concatenate\n",
    "import matplotlib.pyplot as plt\n",
    "from utils import *\n",
    "from tensorflow.keras.datasets import mnist\n",
    "from tensorflow.keras.models import Model\n",
    "\n",
    "(x_train, y_train), (x_test, y_test) = keras.datasets.mnist.load_data()"
   ]
  },
  {
   "cell_type": "code",
   "execution_count": 2,
   "id": "73ff462d",
   "metadata": {},
   "outputs": [
    {
     "name": "stdout",
     "output_type": "stream",
     "text": [
      "x_train shape: (60000, 28, 28, 1)\n",
      "60000 train samples\n",
      "10000 test samples\n"
     ]
    }
   ],
   "source": [
    "num_classes = 10\n",
    "input_shape = (28, 28, 1)\n",
    "(x_train, y_train), (x_test, y_test) = keras.datasets.mnist.load_data()\n",
    "\n",
    "x_train = x_train.astype(\"float32\") / 255\n",
    "x_test = x_test.astype(\"float32\") / 255\n",
    "\n",
    "x_train = np.expand_dims(x_train, -1)\n",
    "x_test = np.expand_dims(x_test, -1)\n",
    "print(\"x_train shape:\", x_train.shape)\n",
    "print(x_train.shape[0], \"train samples\")\n",
    "print(x_test.shape[0], \"test samples\")\n",
    "\n",
    "# convert class vectors to binary class matrices\n",
    "y_train = keras.utils.to_categorical(y_train, num_classes)\n",
    "y_test = keras.utils.to_categorical(y_test, num_classes)"
   ]
  },
  {
   "cell_type": "code",
   "execution_count": 3,
   "id": "ee0cb435",
   "metadata": {},
   "outputs": [
    {
     "name": "stdout",
     "output_type": "stream",
     "text": [
      "Model: \"functional_1\"\n",
      "__________________________________________________________________________________________________\n",
      "Layer (type)                    Output Shape         Param #     Connected to                     \n",
      "==================================================================================================\n",
      "input_1 (InputLayer)            [(None, 28, 28, 1)]  0                                            \n",
      "__________________________________________________________________________________________________\n",
      "involution_1 (Involution)       (None, 28, 28, 1)    24          input_1[0][0]                    \n",
      "__________________________________________________________________________________________________\n",
      "re_lu (ReLU)                    (None, 28, 28, 1)    0           involution_1[0][0]               \n",
      "__________________________________________________________________________________________________\n",
      "concatenate (Concatenate)       (None, 28, 28, 2)    0           re_lu[0][0]                      \n",
      "                                                                 input_1[0][0]                    \n",
      "__________________________________________________________________________________________________\n",
      "involution_2 (Involution)       (None, 28, 28, 2)    25          concatenate[0][0]                \n",
      "__________________________________________________________________________________________________\n",
      "re_lu_1 (ReLU)                  (None, 28, 28, 2)    0           involution_2[0][0]               \n",
      "__________________________________________________________________________________________________\n",
      "concatenate_1 (Concatenate)     (None, 28, 28, 4)    0           concatenate[0][0]                \n",
      "                                                                 re_lu_1[0][0]                    \n",
      "__________________________________________________________________________________________________\n",
      "concatenate_2 (Concatenate)     (None, 28, 28, 5)    0           concatenate_1[0][0]              \n",
      "                                                                 input_1[0][0]                    \n",
      "__________________________________________________________________________________________________\n",
      "flatten (Flatten)               (None, 3920)         0           concatenate_2[0][0]              \n",
      "__________________________________________________________________________________________________\n",
      "dropout (Dropout)               (None, 3920)         0           flatten[0][0]                    \n",
      "__________________________________________________________________________________________________\n",
      "dense (Dense)                   (None, 10)           39210       dropout[0][0]                    \n",
      "==================================================================================================\n",
      "Total params: 39,259\n",
      "Trainable params: 39,255\n",
      "Non-trainable params: 4\n",
      "__________________________________________________________________________________________________\n"
     ]
    }
   ],
   "source": [
    "inputs = Input(shape=(28, 28, 1))\n",
    "\n",
    "output_1 = Involution(channel=3, group_number=1, kernel_size=3, stride=1,\n",
    "                      reduction_ratio=2, name=\"involution_1\")(inputs)\n",
    "output_1 = ReLU()(output_1)\n",
    "output_2 = Concatenate()([output_1, inputs])\n",
    "\n",
    "output_3 = Involution(channel=3, group_number=1, kernel_size=3, stride=1,\n",
    "                      reduction_ratio=2, name=\"involution_2\")(output_2)\n",
    "output_3 = ReLU()(output_3)\n",
    "\n",
    "output_3 = Concatenate()([output_2, output_3])\n",
    "output = Concatenate()([output_3, inputs])\n",
    "\n",
    "output = Flatten()(output)\n",
    "output = Dropout(0.5)(output)\n",
    "output = Dense(num_classes, activation=\"softmax\")(output)\n",
    "model = Model(inputs=inputs, outputs=output)\n",
    "\n",
    "model.summary()\n",
    "# keras.utils.plot_model(model, to_file='model.png')\n"
   ]
  },
  {
   "cell_type": "code",
   "execution_count": 4,
   "id": "59be1cd1",
   "metadata": {},
   "outputs": [
    {
     "name": "stdout",
     "output_type": "stream",
     "text": [
      "Epoch 1/20\n",
      "422/422 [==============================] - 11s 26ms/step - loss: 0.4442 - accuracy: 0.8757 - val_loss: 0.1600 - val_accuracy: 0.9555\n",
      "Epoch 2/20\n",
      "422/422 [==============================] - 12s 27ms/step - loss: 0.2079 - accuracy: 0.9391 - val_loss: 0.1332 - val_accuracy: 0.9643\n",
      "Epoch 3/20\n",
      "422/422 [==============================] - 13s 31ms/step - loss: 0.1853 - accuracy: 0.9459 - val_loss: 0.1237 - val_accuracy: 0.9685\n",
      "Epoch 4/20\n",
      "422/422 [==============================] - 14s 33ms/step - loss: 0.1725 - accuracy: 0.9488 - val_loss: 0.1143 - val_accuracy: 0.9697\n",
      "Epoch 5/20\n",
      "422/422 [==============================] - 14s 32ms/step - loss: 0.1637 - accuracy: 0.9515 - val_loss: 0.1101 - val_accuracy: 0.9723\n",
      "Epoch 6/20\n",
      "422/422 [==============================] - 14s 32ms/step - loss: 0.1568 - accuracy: 0.9528 - val_loss: 0.1092 - val_accuracy: 0.9717\n",
      "Epoch 7/20\n",
      "422/422 [==============================] - 14s 33ms/step - loss: 0.1452 - accuracy: 0.9556 - val_loss: 0.1024 - val_accuracy: 0.9737\n",
      "Epoch 8/20\n",
      "422/422 [==============================] - 15s 36ms/step - loss: 0.1406 - accuracy: 0.9572 - val_loss: 0.1006 - val_accuracy: 0.9728\n",
      "Epoch 9/20\n",
      "422/422 [==============================] - 15s 35ms/step - loss: 0.1331 - accuracy: 0.9589 - val_loss: 0.0941 - val_accuracy: 0.9763\n",
      "Epoch 10/20\n",
      "422/422 [==============================] - 15s 34ms/step - loss: 0.1292 - accuracy: 0.9598 - val_loss: 0.0930 - val_accuracy: 0.9745\n",
      "Epoch 11/20\n",
      "422/422 [==============================] - 15s 34ms/step - loss: 0.1235 - accuracy: 0.9612 - val_loss: 0.0883 - val_accuracy: 0.9755\n",
      "Epoch 12/20\n",
      "422/422 [==============================] - 15s 34ms/step - loss: 0.1171 - accuracy: 0.9628 - val_loss: 0.0866 - val_accuracy: 0.9783\n",
      "Epoch 13/20\n",
      "422/422 [==============================] - 15s 34ms/step - loss: 0.1134 - accuracy: 0.9639 - val_loss: 0.0861 - val_accuracy: 0.9783\n",
      "Epoch 14/20\n",
      "422/422 [==============================] - 14s 34ms/step - loss: 0.1113 - accuracy: 0.9653 - val_loss: 0.0802 - val_accuracy: 0.9793\n",
      "Epoch 15/20\n",
      "422/422 [==============================] - 15s 35ms/step - loss: 0.1098 - accuracy: 0.9650 - val_loss: 0.0805 - val_accuracy: 0.9798\n",
      "Epoch 16/20\n",
      "422/422 [==============================] - 14s 34ms/step - loss: 0.1060 - accuracy: 0.9661 - val_loss: 0.0748 - val_accuracy: 0.9805\n",
      "Epoch 17/20\n",
      "422/422 [==============================] - 15s 34ms/step - loss: 0.1028 - accuracy: 0.9665 - val_loss: 0.0753 - val_accuracy: 0.9812\n",
      "Epoch 18/20\n",
      "422/422 [==============================] - 15s 34ms/step - loss: 0.1009 - accuracy: 0.9676 - val_loss: 0.0757 - val_accuracy: 0.9812\n",
      "Epoch 19/20\n",
      "422/422 [==============================] - 15s 34ms/step - loss: 0.1001 - accuracy: 0.9682 - val_loss: 0.0748 - val_accuracy: 0.9820\n",
      "Epoch 20/20\n",
      "422/422 [==============================] - 15s 34ms/step - loss: 0.0953 - accuracy: 0.9695 - val_loss: 0.0764 - val_accuracy: 0.9810\n"
     ]
    },
    {
     "data": {
      "text/plain": [
       "<tensorflow.python.keras.callbacks.History at 0x1853fa6ff08>"
      ]
     },
     "execution_count": 4,
     "metadata": {},
     "output_type": "execute_result"
    }
   ],
   "source": [
    "batch_size = 128\n",
    "epochs = 20\n",
    "model.compile(loss=\"categorical_crossentropy\", optimizer=\"adam\", metrics=[\"accuracy\"])\n",
    "model.fit(x_train, y_train, batch_size=batch_size, epochs=epochs, validation_split=0.1)"
   ]
  },
  {
   "cell_type": "code",
   "execution_count": 5,
   "id": "9b7bdd10",
   "metadata": {},
   "outputs": [
    {
     "data": {
      "text/plain": [
       "[0.08256213366985321, 0.9757999777793884]"
      ]
     },
     "execution_count": 5,
     "metadata": {},
     "output_type": "execute_result"
    }
   ],
   "source": [
    "score = model.evaluate(x_test, y_test, verbose=0)\n",
    "score"
   ]
  },
  {
   "cell_type": "code",
   "execution_count": null,
   "id": "5a9f1df6",
   "metadata": {},
   "outputs": [],
   "source": []
  }
 ],
 "metadata": {
  "kernelspec": {
   "display_name": "Python 3 (ipykernel)",
   "language": "python",
   "name": "python3"
  },
  "language_info": {
   "codemirror_mode": {
    "name": "ipython",
    "version": 3
   },
   "file_extension": ".py",
   "mimetype": "text/x-python",
   "name": "python",
   "nbconvert_exporter": "python",
   "pygments_lexer": "ipython3",
   "version": "3.7.11"
  }
 },
 "nbformat": 4,
 "nbformat_minor": 5
}
