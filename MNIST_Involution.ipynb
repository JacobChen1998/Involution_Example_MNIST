{
 "cells": [
  {
   "cell_type": "code",
   "execution_count": 1,
   "id": "9abb85e1",
   "metadata": {},
   "outputs": [],
   "source": [
    "import os\n",
    "import cv2\n",
    "import numpy as np\n",
    "import tensorflow.keras as keras\n",
    "import tensorflow as tf\n",
    "from tensorflow.keras import layers,Sequential\n",
    "from tensorflow.keras.layers import Lambda,Dense,ReLU,MaxPooling2D,Flatten,Dense,Input,MaxPool2D,Conv2D\n",
    "import matplotlib.pyplot as plt\n",
    "from utils import *\n",
    "from tensorflow.keras.datasets import mnist\n",
    "(x_train, y_train), (x_test, y_test) = keras.datasets.mnist.load_data()"
   ]
  },
  {
   "cell_type": "code",
   "execution_count": 2,
   "id": "fecc47c4",
   "metadata": {},
   "outputs": [
    {
     "name": "stdout",
     "output_type": "stream",
     "text": [
      "x_train shape: (60000, 28, 28, 1)\n",
      "60000 train samples\n",
      "10000 test samples\n"
     ]
    }
   ],
   "source": [
    "num_classes = 10\n",
    "input_shape = (28, 28, 1)\n",
    "(x_train, y_train), (x_test, y_test) = keras.datasets.mnist.load_data()\n",
    "\n",
    "x_train = x_train.astype(\"float32\") / 255\n",
    "x_test = x_test.astype(\"float32\") / 255\n",
    "\n",
    "x_train = np.expand_dims(x_train, -1)\n",
    "x_test = np.expand_dims(x_test, -1)\n",
    "print(\"x_train shape:\", x_train.shape)\n",
    "print(x_train.shape[0], \"train samples\")\n",
    "print(x_test.shape[0], \"test samples\")\n",
    "\n",
    "# convert class vectors to binary class matrices\n",
    "y_train = keras.utils.to_categorical(y_train, num_classes)\n",
    "y_test = keras.utils.to_categorical(y_test, num_classes)"
   ]
  },
  {
   "cell_type": "code",
   "execution_count": 4,
   "id": "72539809",
   "metadata": {},
   "outputs": [
    {
     "name": "stdout",
     "output_type": "stream",
     "text": [
      "Model: \"sequential_1\"\n",
      "_________________________________________________________________\n",
      "Layer (type)                 Output Shape              Param #   \n",
      "=================================================================\n",
      "involution_1 (Involution)    (None, 28, 28, 1)         24        \n",
      "_________________________________________________________________\n",
      "re_lu_2 (ReLU)               (None, 28, 28, 1)         0         \n",
      "_________________________________________________________________\n",
      "max_pooling2d_2 (MaxPooling2 (None, 14, 14, 1)         0         \n",
      "_________________________________________________________________\n",
      "involution_2 (Involution)    (None, 14, 14, 1)         24        \n",
      "_________________________________________________________________\n",
      "re_lu_3 (ReLU)               (None, 14, 14, 1)         0         \n",
      "_________________________________________________________________\n",
      "max_pooling2d_3 (MaxPooling2 (None, 7, 7, 1)           0         \n",
      "_________________________________________________________________\n",
      "flatten_1 (Flatten)          (None, 49)                0         \n",
      "_________________________________________________________________\n",
      "dropout_1 (Dropout)          (None, 49)                0         \n",
      "_________________________________________________________________\n",
      "dense_1 (Dense)              (None, 10)                500       \n",
      "=================================================================\n",
      "Total params: 548\n",
      "Trainable params: 544\n",
      "Non-trainable params: 4\n",
      "_________________________________________________________________\n"
     ]
    }
   ],
   "source": [
    "model = keras.Sequential(\n",
    "    [\n",
    "        Input(shape=(28, 28, 1)),\n",
    "        Involution(channel=3, group_number=1, kernel_size=3, stride=1, reduction_ratio=2, name=\"involution_1\"),\n",
    "        ReLU(),\n",
    "        layers.MaxPooling2D(pool_size=(2, 2)),\n",
    "        Involution(channel=3, group_number=1, kernel_size=3, stride=1, reduction_ratio=2, name=\"involution_2\"),\n",
    "        ReLU(),        \n",
    "        layers.MaxPooling2D(pool_size=(2, 2)),\n",
    "        layers.Flatten(),\n",
    "        layers.Dropout(0.5),\n",
    "        layers.Dense(num_classes, activation=\"softmax\"),\n",
    "    ]\n",
    ")\n",
    "\n",
    "model.summary()"
   ]
  },
  {
   "cell_type": "code",
   "execution_count": 5,
   "id": "7e842589",
   "metadata": {},
   "outputs": [
    {
     "name": "stdout",
     "output_type": "stream",
     "text": [
      "Epoch 1/15\n",
      "422/422 [==============================] - 8s 20ms/step - loss: 1.8208 - accuracy: 0.3472 - val_loss: 1.0735 - val_accuracy: 0.7643\n",
      "Epoch 2/15\n",
      "422/422 [==============================] - 8s 18ms/step - loss: 1.3341 - accuracy: 0.5402 - val_loss: 0.7834 - val_accuracy: 0.8253\n",
      "Epoch 3/15\n",
      "422/422 [==============================] - 8s 18ms/step - loss: 1.2125 - accuracy: 0.5869 - val_loss: 0.7090 - val_accuracy: 0.8360\n",
      "Epoch 4/15\n",
      "422/422 [==============================] - 8s 18ms/step - loss: 1.1538 - accuracy: 0.6133 - val_loss: 0.6546 - val_accuracy: 0.8545\n",
      "Epoch 5/15\n",
      "422/422 [==============================] - 8s 18ms/step - loss: 1.1161 - accuracy: 0.6273 - val_loss: 0.6281 - val_accuracy: 0.8590\n",
      "Epoch 6/15\n",
      "422/422 [==============================] - 8s 18ms/step - loss: 1.0870 - accuracy: 0.6396 - val_loss: 0.6218 - val_accuracy: 0.8545\n",
      "Epoch 7/15\n",
      "422/422 [==============================] - 8s 18ms/step - loss: 1.0686 - accuracy: 0.6483 - val_loss: 0.5868 - val_accuracy: 0.8648\n",
      "Epoch 8/15\n",
      "422/422 [==============================] - 8s 18ms/step - loss: 1.0572 - accuracy: 0.6508 - val_loss: 0.5903 - val_accuracy: 0.8625\n",
      "Epoch 9/15\n",
      "422/422 [==============================] - 8s 18ms/step - loss: 1.0405 - accuracy: 0.6559 - val_loss: 0.5717 - val_accuracy: 0.8703\n",
      "Epoch 10/15\n",
      "422/422 [==============================] - 8s 18ms/step - loss: 1.0294 - accuracy: 0.6597 - val_loss: 0.5613 - val_accuracy: 0.8732\n",
      "Epoch 11/15\n",
      "422/422 [==============================] - 8s 18ms/step - loss: 1.0187 - accuracy: 0.6632 - val_loss: 0.5534 - val_accuracy: 0.8723\n",
      "Epoch 12/15\n",
      "422/422 [==============================] - 8s 19ms/step - loss: 1.0145 - accuracy: 0.6672 - val_loss: 0.5531 - val_accuracy: 0.8755\n",
      "Epoch 13/15\n",
      "422/422 [==============================] - 8s 18ms/step - loss: 1.0008 - accuracy: 0.6697 - val_loss: 0.5486 - val_accuracy: 0.8788\n",
      "Epoch 14/15\n",
      "422/422 [==============================] - 8s 18ms/step - loss: 0.9985 - accuracy: 0.6705 - val_loss: 0.5381 - val_accuracy: 0.8785\n",
      "Epoch 15/15\n",
      "422/422 [==============================] - 8s 18ms/step - loss: 0.9886 - accuracy: 0.6759 - val_loss: 0.5311 - val_accuracy: 0.8818\n"
     ]
    },
    {
     "data": {
      "text/plain": [
       "<tensorflow.python.keras.callbacks.History at 0x1b525a2f688>"
      ]
     },
     "execution_count": 5,
     "metadata": {},
     "output_type": "execute_result"
    }
   ],
   "source": [
    "batch_size = 128\n",
    "epochs = 15\n",
    "model.compile(loss=\"categorical_crossentropy\", optimizer=\"adam\", metrics=[\"accuracy\"])\n",
    "model.fit(x_train, y_train, batch_size=batch_size, epochs=epochs, validation_split=0.1)"
   ]
  },
  {
   "cell_type": "code",
   "execution_count": 6,
   "id": "68684a1a",
   "metadata": {},
   "outputs": [
    {
     "name": "stdout",
     "output_type": "stream",
     "text": [
      "Epoch 1/15\n",
      "422/422 [==============================] - 8s 18ms/step - loss: 0.9881 - accuracy: 0.6770 - val_loss: 0.5249 - val_accuracy: 0.8830\n",
      "Epoch 2/15\n",
      "422/422 [==============================] - 8s 19ms/step - loss: 0.9742 - accuracy: 0.6819 - val_loss: 0.5194 - val_accuracy: 0.8828\n",
      "Epoch 3/15\n",
      "422/422 [==============================] - 9s 22ms/step - loss: 0.9762 - accuracy: 0.6806 - val_loss: 0.5205 - val_accuracy: 0.8820\n",
      "Epoch 4/15\n",
      "422/422 [==============================] - 8s 18ms/step - loss: 0.9632 - accuracy: 0.6855 - val_loss: 0.5109 - val_accuracy: 0.8890\n",
      "Epoch 5/15\n",
      "422/422 [==============================] - 8s 18ms/step - loss: 0.9559 - accuracy: 0.6859 - val_loss: 0.5067 - val_accuracy: 0.8900\n",
      "Epoch 6/15\n",
      "422/422 [==============================] - 8s 19ms/step - loss: 0.9643 - accuracy: 0.6860 - val_loss: 0.5074 - val_accuracy: 0.8893\n",
      "Epoch 7/15\n",
      "422/422 [==============================] - 8s 19ms/step - loss: 0.9521 - accuracy: 0.6883 - val_loss: 0.5016 - val_accuracy: 0.8880\n",
      "Epoch 8/15\n",
      "422/422 [==============================] - 8s 19ms/step - loss: 0.9431 - accuracy: 0.6912 - val_loss: 0.4962 - val_accuracy: 0.8903\n",
      "Epoch 9/15\n",
      "422/422 [==============================] - 8s 19ms/step - loss: 0.9531 - accuracy: 0.6866 - val_loss: 0.4894 - val_accuracy: 0.8938\n",
      "Epoch 10/15\n",
      "422/422 [==============================] - 8s 19ms/step - loss: 0.9420 - accuracy: 0.6948 - val_loss: 0.4925 - val_accuracy: 0.8923\n",
      "Epoch 11/15\n",
      "422/422 [==============================] - 8s 19ms/step - loss: 0.9399 - accuracy: 0.6920 - val_loss: 0.4794 - val_accuracy: 0.8935\n",
      "Epoch 12/15\n",
      "422/422 [==============================] - 8s 19ms/step - loss: 0.9327 - accuracy: 0.6943 - val_loss: 0.4845 - val_accuracy: 0.8935\n",
      "Epoch 13/15\n",
      "422/422 [==============================] - 8s 18ms/step - loss: 0.9309 - accuracy: 0.6961 - val_loss: 0.4814 - val_accuracy: 0.8912\n",
      "Epoch 14/15\n",
      "422/422 [==============================] - 8s 19ms/step - loss: 0.9276 - accuracy: 0.6981 - val_loss: 0.4898 - val_accuracy: 0.8933\n",
      "Epoch 15/15\n",
      "422/422 [==============================] - 8s 18ms/step - loss: 0.9162 - accuracy: 0.7016 - val_loss: 0.4749 - val_accuracy: 0.8945\n"
     ]
    },
    {
     "data": {
      "text/plain": [
       "<tensorflow.python.keras.callbacks.History at 0x1b57902c848>"
      ]
     },
     "execution_count": 6,
     "metadata": {},
     "output_type": "execute_result"
    }
   ],
   "source": [
    "model.fit(x_train, y_train, batch_size=batch_size, epochs=epochs, validation_split=0.1)"
   ]
  },
  {
   "cell_type": "code",
   "execution_count": 7,
   "id": "e452d867",
   "metadata": {},
   "outputs": [
    {
     "name": "stdout",
     "output_type": "stream",
     "text": [
      "Epoch 1/15\n",
      "422/422 [==============================] - 8s 18ms/step - loss: 0.9194 - accuracy: 0.7011 - val_loss: 0.4700 - val_accuracy: 0.8973\n",
      "Epoch 2/15\n",
      "422/422 [==============================] - 8s 19ms/step - loss: 0.9120 - accuracy: 0.7025 - val_loss: 0.4730 - val_accuracy: 0.8952\n",
      "Epoch 3/15\n",
      "422/422 [==============================] - 8s 18ms/step - loss: 0.9132 - accuracy: 0.7024 - val_loss: 0.4612 - val_accuracy: 0.8942\n",
      "Epoch 4/15\n",
      "422/422 [==============================] - 9s 20ms/step - loss: 0.9062 - accuracy: 0.7062 - val_loss: 0.4620 - val_accuracy: 0.8973\n",
      "Epoch 5/15\n",
      "422/422 [==============================] - 8s 19ms/step - loss: 0.9041 - accuracy: 0.7059 - val_loss: 0.4511 - val_accuracy: 0.8978\n",
      "Epoch 6/15\n",
      "422/422 [==============================] - 8s 19ms/step - loss: 0.9038 - accuracy: 0.7046 - val_loss: 0.4562 - val_accuracy: 0.8995\n",
      "Epoch 7/15\n",
      "422/422 [==============================] - 8s 18ms/step - loss: 0.9030 - accuracy: 0.7062 - val_loss: 0.4603 - val_accuracy: 0.9003\n",
      "Epoch 8/15\n",
      "422/422 [==============================] - 8s 19ms/step - loss: 0.8927 - accuracy: 0.7097 - val_loss: 0.4527 - val_accuracy: 0.8993\n",
      "Epoch 9/15\n",
      "422/422 [==============================] - 8s 18ms/step - loss: 0.8976 - accuracy: 0.7083 - val_loss: 0.4493 - val_accuracy: 0.8992\n",
      "Epoch 10/15\n",
      "422/422 [==============================] - 8s 19ms/step - loss: 0.8949 - accuracy: 0.7103 - val_loss: 0.4464 - val_accuracy: 0.8995\n",
      "Epoch 11/15\n",
      "422/422 [==============================] - 8s 20ms/step - loss: 0.8928 - accuracy: 0.7088 - val_loss: 0.4450 - val_accuracy: 0.8998\n",
      "Epoch 12/15\n",
      "422/422 [==============================] - 9s 21ms/step - loss: 0.8938 - accuracy: 0.7108 - val_loss: 0.4538 - val_accuracy: 0.8975\n",
      "Epoch 13/15\n",
      "422/422 [==============================] - 9s 21ms/step - loss: 0.8918 - accuracy: 0.7097 - val_loss: 0.4463 - val_accuracy: 0.8995\n",
      "Epoch 14/15\n",
      "422/422 [==============================] - 7s 18ms/step - loss: 0.8891 - accuracy: 0.7119 - val_loss: 0.4471 - val_accuracy: 0.8993\n",
      "Epoch 15/15\n",
      "422/422 [==============================] - 8s 20ms/step - loss: 0.8851 - accuracy: 0.7135 - val_loss: 0.4425 - val_accuracy: 0.9005\n"
     ]
    },
    {
     "data": {
      "text/plain": [
       "<tensorflow.python.keras.callbacks.History at 0x1b57904ee88>"
      ]
     },
     "execution_count": 7,
     "metadata": {},
     "output_type": "execute_result"
    }
   ],
   "source": [
    "model.fit(x_train, y_train, batch_size=batch_size, epochs=epochs, validation_split=0.1)"
   ]
  }
 ],
 "metadata": {
  "kernelspec": {
   "display_name": "Python 3 (ipykernel)",
   "language": "python",
   "name": "python3"
  },
  "language_info": {
   "codemirror_mode": {
    "name": "ipython",
    "version": 3
   },
   "file_extension": ".py",
   "mimetype": "text/x-python",
   "name": "python",
   "nbconvert_exporter": "python",
   "pygments_lexer": "ipython3",
   "version": "3.7.11"
  }
 },
 "nbformat": 4,
 "nbformat_minor": 5
}
