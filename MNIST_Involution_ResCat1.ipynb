{
 "cells": [
  {
   "cell_type": "code",
   "execution_count": 1,
   "id": "fb5ef395",
   "metadata": {},
   "outputs": [],
   "source": [
    "import os\n",
    "import cv2\n",
    "import numpy as np\n",
    "import tensorflow.keras as keras\n",
    "import tensorflow as tf\n",
    "from tensorflow.keras.layers import Lambda,Dense,ReLU,MaxPooling2D,Flatten,Add\n",
    "from tensorflow.keras.layers import Dense,Input,MaxPool2D,Conv2D,Dropout,Concatenate\n",
    "import matplotlib.pyplot as plt\n",
    "from utils import *\n",
    "from tensorflow.keras.datasets import mnist\n",
    "from tensorflow.keras.models import Model\n",
    "\n",
    "(x_train, y_train), (x_test, y_test) = keras.datasets.mnist.load_data()"
   ]
  },
  {
   "cell_type": "code",
   "execution_count": 2,
   "id": "73ff462d",
   "metadata": {},
   "outputs": [
    {
     "name": "stdout",
     "output_type": "stream",
     "text": [
      "x_train shape: (60000, 28, 28, 1)\n",
      "60000 train samples\n",
      "10000 test samples\n"
     ]
    }
   ],
   "source": [
    "num_classes = 10\n",
    "input_shape = (28, 28, 1)\n",
    "(x_train, y_train), (x_test, y_test) = keras.datasets.mnist.load_data()\n",
    "\n",
    "x_train = x_train.astype(\"float32\") / 255\n",
    "x_test = x_test.astype(\"float32\") / 255\n",
    "\n",
    "x_train = np.expand_dims(x_train, -1)\n",
    "x_test = np.expand_dims(x_test, -1)\n",
    "print(\"x_train shape:\", x_train.shape)\n",
    "print(x_train.shape[0], \"train samples\")\n",
    "print(x_test.shape[0], \"test samples\")\n",
    "\n",
    "# convert class vectors to binary class matrices\n",
    "y_train = keras.utils.to_categorical(y_train, num_classes)\n",
    "y_test = keras.utils.to_categorical(y_test, num_classes)"
   ]
  },
  {
   "cell_type": "code",
   "execution_count": 3,
   "id": "ee0cb435",
   "metadata": {},
   "outputs": [
    {
     "name": "stdout",
     "output_type": "stream",
     "text": [
      "Model: \"functional_1\"\n",
      "__________________________________________________________________________________________________\n",
      "Layer (type)                    Output Shape         Param #     Connected to                     \n",
      "==================================================================================================\n",
      "input_1 (InputLayer)            [(None, 28, 28, 1)]  0                                            \n",
      "__________________________________________________________________________________________________\n",
      "involution_1 (Involution)       (None, 28, 28, 1)    24          input_1[0][0]                    \n",
      "__________________________________________________________________________________________________\n",
      "re_lu (ReLU)                    (None, 28, 28, 1)    0           involution_1[0][0]               \n",
      "__________________________________________________________________________________________________\n",
      "concatenate (Concatenate)       (None, 28, 28, 2)    0           re_lu[0][0]                      \n",
      "                                                                 input_1[0][0]                    \n",
      "__________________________________________________________________________________________________\n",
      "involution_2 (Involution)       (None, 28, 28, 2)    25          concatenate[0][0]                \n",
      "__________________________________________________________________________________________________\n",
      "re_lu_1 (ReLU)                  (None, 28, 28, 2)    0           involution_2[0][0]               \n",
      "__________________________________________________________________________________________________\n",
      "concatenate_1 (Concatenate)     (None, 28, 28, 3)    0           re_lu_1[0][0]                    \n",
      "                                                                 input_1[0][0]                    \n",
      "__________________________________________________________________________________________________\n",
      "flatten (Flatten)               (None, 2352)         0           concatenate_1[0][0]              \n",
      "__________________________________________________________________________________________________\n",
      "dropout (Dropout)               (None, 2352)         0           flatten[0][0]                    \n",
      "__________________________________________________________________________________________________\n",
      "dense (Dense)                   (None, 10)           23530       dropout[0][0]                    \n",
      "==================================================================================================\n",
      "Total params: 23,579\n",
      "Trainable params: 23,575\n",
      "Non-trainable params: 4\n",
      "__________________________________________________________________________________________________\n"
     ]
    }
   ],
   "source": [
    "inputs = Input(shape=(28, 28, 1))\n",
    "\n",
    "output_1 = Involution(channel=3, group_number=1, kernel_size=3, stride=1,\n",
    "                      reduction_ratio=2, name=\"involution_1\")(inputs)\n",
    "output_1 = ReLU()(output_1)\n",
    "output_1 = Concatenate()([output_1, inputs])\n",
    "\n",
    "output_1 = Involution(channel=3, group_number=1, kernel_size=3, stride=1,\n",
    "                      reduction_ratio=2, name=\"involution_2\")(output_1)\n",
    "output_1 = ReLU()(output_1)\n",
    "\n",
    "output = Concatenate()([output_1, inputs])\n",
    "\n",
    "output = Flatten()(output)\n",
    "output = Dropout(0.5)(output)\n",
    "output = Dense(num_classes, activation=\"softmax\")(output)\n",
    "model = Model(inputs=inputs, outputs=output)\n",
    "\n",
    "model.summary()\n",
    "# keras.utils.plot_model(model, to_file='model.png')\n"
   ]
  },
  {
   "cell_type": "code",
   "execution_count": 4,
   "id": "59be1cd1",
   "metadata": {},
   "outputs": [
    {
     "name": "stdout",
     "output_type": "stream",
     "text": [
      "Epoch 1/20\n",
      "422/422 [==============================] - ETA: 0s - loss: 0.5614 - accuracy: 0.8342WARNING:tensorflow:Callbacks method `on_test_batch_end` is slow compared to the batch time (batch time: 0.0000s vs `on_test_batch_end` time: 0.0156s). Check your callbacks.\n",
      "422/422 [==============================] - 12s 27ms/step - loss: 0.5614 - accuracy: 0.8342 - val_loss: 0.2436 - val_accuracy: 0.9340\n",
      "Epoch 2/20\n",
      "422/422 [==============================] - 13s 30ms/step - loss: 0.3349 - accuracy: 0.9018 - val_loss: 0.1966 - val_accuracy: 0.9448\n",
      "Epoch 3/20\n",
      "422/422 [==============================] - 13s 31ms/step - loss: 0.2772 - accuracy: 0.9191 - val_loss: 0.1517 - val_accuracy: 0.9590\n",
      "Epoch 4/20\n",
      "422/422 [==============================] - 13s 31ms/step - loss: 0.2368 - accuracy: 0.9302 - val_loss: 0.1343 - val_accuracy: 0.9643\n",
      "Epoch 5/20\n",
      "422/422 [==============================] - 13s 31ms/step - loss: 0.2115 - accuracy: 0.9366 - val_loss: 0.1264 - val_accuracy: 0.9630\n",
      "Epoch 6/20\n",
      "422/422 [==============================] - 13s 32ms/step - loss: 0.1995 - accuracy: 0.9399 - val_loss: 0.1239 - val_accuracy: 0.9652\n",
      "Epoch 7/20\n",
      "422/422 [==============================] - 13s 32ms/step - loss: 0.1901 - accuracy: 0.9421 - val_loss: 0.1127 - val_accuracy: 0.9687\n",
      "Epoch 8/20\n",
      "422/422 [==============================] - 13s 31ms/step - loss: 0.1832 - accuracy: 0.9450 - val_loss: 0.1104 - val_accuracy: 0.9683\n",
      "Epoch 9/20\n",
      "422/422 [==============================] - 13s 31ms/step - loss: 0.1810 - accuracy: 0.9453 - val_loss: 0.1081 - val_accuracy: 0.9707\n",
      "Epoch 10/20\n",
      "422/422 [==============================] - 13s 31ms/step - loss: 0.1765 - accuracy: 0.9463 - val_loss: 0.1106 - val_accuracy: 0.9685\n",
      "Epoch 11/20\n",
      "422/422 [==============================] - 14s 33ms/step - loss: 0.1715 - accuracy: 0.9476 - val_loss: 0.1057 - val_accuracy: 0.9708\n",
      "Epoch 12/20\n",
      "422/422 [==============================] - 13s 32ms/step - loss: 0.1675 - accuracy: 0.9493 - val_loss: 0.1067 - val_accuracy: 0.9687\n",
      "Epoch 13/20\n",
      "422/422 [==============================] - 13s 32ms/step - loss: 0.1665 - accuracy: 0.9488 - val_loss: 0.1066 - val_accuracy: 0.9688\n",
      "Epoch 14/20\n",
      "422/422 [==============================] - 14s 33ms/step - loss: 0.1617 - accuracy: 0.9504 - val_loss: 0.1087 - val_accuracy: 0.9697\n",
      "Epoch 15/20\n",
      "422/422 [==============================] - 14s 33ms/step - loss: 0.1611 - accuracy: 0.9504 - val_loss: 0.1054 - val_accuracy: 0.9700\n",
      "Epoch 16/20\n",
      "422/422 [==============================] - 14s 34ms/step - loss: 0.1583 - accuracy: 0.9497 - val_loss: 0.1075 - val_accuracy: 0.9678\n",
      "Epoch 17/20\n",
      "422/422 [==============================] - 14s 33ms/step - loss: 0.1606 - accuracy: 0.9499 - val_loss: 0.1011 - val_accuracy: 0.9732\n",
      "Epoch 18/20\n",
      "422/422 [==============================] - 14s 33ms/step - loss: 0.1553 - accuracy: 0.9512 - val_loss: 0.1017 - val_accuracy: 0.9727\n",
      "Epoch 19/20\n",
      "422/422 [==============================] - 14s 33ms/step - loss: 0.1537 - accuracy: 0.9518 - val_loss: 0.1000 - val_accuracy: 0.9728\n",
      "Epoch 20/20\n",
      "422/422 [==============================] - 14s 34ms/step - loss: 0.1526 - accuracy: 0.9531 - val_loss: 0.0988 - val_accuracy: 0.9740\n"
     ]
    },
    {
     "data": {
      "text/plain": [
       "<tensorflow.python.keras.callbacks.History at 0x1e752a10e88>"
      ]
     },
     "execution_count": 4,
     "metadata": {},
     "output_type": "execute_result"
    }
   ],
   "source": [
    "batch_size = 128\n",
    "epochs = 20\n",
    "model.compile(loss=\"categorical_crossentropy\", optimizer=\"adam\", metrics=[\"accuracy\"])\n",
    "model.fit(x_train, y_train, batch_size=batch_size, epochs=epochs, validation_split=0.1)"
   ]
  },
  {
   "cell_type": "code",
   "execution_count": 5,
   "id": "9b7bdd10",
   "metadata": {},
   "outputs": [
    {
     "data": {
      "text/plain": [
       "[0.11619466543197632, 0.9670000076293945]"
      ]
     },
     "execution_count": 5,
     "metadata": {},
     "output_type": "execute_result"
    }
   ],
   "source": [
    "score = model.evaluate(x_test, y_test, verbose=0)\n",
    "score"
   ]
  },
  {
   "cell_type": "code",
   "execution_count": null,
   "id": "5a9f1df6",
   "metadata": {},
   "outputs": [],
   "source": []
  }
 ],
 "metadata": {
  "kernelspec": {
   "display_name": "Python 3 (ipykernel)",
   "language": "python",
   "name": "python3"
  },
  "language_info": {
   "codemirror_mode": {
    "name": "ipython",
    "version": 3
   },
   "file_extension": ".py",
   "mimetype": "text/x-python",
   "name": "python",
   "nbconvert_exporter": "python",
   "pygments_lexer": "ipython3",
   "version": "3.7.11"
  }
 },
 "nbformat": 4,
 "nbformat_minor": 5
}
