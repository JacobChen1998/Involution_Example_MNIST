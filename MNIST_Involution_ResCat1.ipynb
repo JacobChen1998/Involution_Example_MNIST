{
 "cells": [
  {
   "cell_type": "code",
   "execution_count": 1,
   "id": "fb5ef395",
   "metadata": {},
   "outputs": [],
   "source": [
    "import os\n",
    "import cv2\n",
    "import numpy as np\n",
    "import tensorflow.keras as keras\n",
    "import tensorflow as tf\n",
    "from tensorflow.keras.layers import Lambda,Dense,ReLU,MaxPooling2D,Flatten,Add\n",
    "from tensorflow.keras.layers import Dense,Input,MaxPool2D,Conv2D,Dropout,Concatenate\n",
    "import matplotlib.pyplot as plt\n",
    "from utils import *\n",
    "from tensorflow.keras.datasets import mnist\n",
    "from tensorflow.keras.models import Model\n",
    "\n",
    "(x_train, y_train), (x_test, y_test) = keras.datasets.mnist.load_data()"
   ]
  },
  {
   "cell_type": "code",
   "execution_count": 2,
   "id": "73ff462d",
   "metadata": {},
   "outputs": [
    {
     "name": "stdout",
     "output_type": "stream",
     "text": [
      "x_train shape: (60000, 28, 28, 1)\n",
      "60000 train samples\n",
      "10000 test samples\n"
     ]
    }
   ],
   "source": [
    "num_classes = 10\n",
    "input_shape = (28, 28, 1)\n",
    "(x_train, y_train), (x_test, y_test) = keras.datasets.mnist.load_data()\n",
    "\n",
    "x_train = x_train.astype(\"float32\") / 255\n",
    "x_test = x_test.astype(\"float32\") / 255\n",
    "\n",
    "x_train = np.expand_dims(x_train, -1)\n",
    "x_test = np.expand_dims(x_test, -1)\n",
    "print(\"x_train shape:\", x_train.shape)\n",
    "print(x_train.shape[0], \"train samples\")\n",
    "print(x_test.shape[0], \"test samples\")\n",
    "\n",
    "# convert class vectors to binary class matrices\n",
    "y_train = keras.utils.to_categorical(y_train, num_classes)\n",
    "y_test = keras.utils.to_categorical(y_test, num_classes)"
   ]
  },
  {
   "cell_type": "code",
   "execution_count": 4,
   "id": "ee0cb435",
   "metadata": {},
   "outputs": [
    {
     "name": "stdout",
     "output_type": "stream",
     "text": [
      "Model: \"functional_1\"\n",
      "__________________________________________________________________________________________________\n",
      "Layer (type)                    Output Shape         Param #     Connected to                     \n",
      "==================================================================================================\n",
      "input_2 (InputLayer)            [(None, 28, 28, 1)]  0                                            \n",
      "__________________________________________________________________________________________________\n",
      "involution_2 (Involution)       (None, 28, 28, 1)    24          input_2[0][0]                    \n",
      "__________________________________________________________________________________________________\n",
      "re_lu_3 (ReLU)                  (None, 28, 28, 1)    0           involution_2[0][0]               \n",
      "__________________________________________________________________________________________________\n",
      "concatenate_3 (Concatenate)     (None, 28, 28, 2)    0           re_lu_3[0][0]                    \n",
      "                                                                 input_2[0][0]                    \n",
      "__________________________________________________________________________________________________\n",
      "flatten_1 (Flatten)             (None, 1568)         0           concatenate_3[0][0]              \n",
      "__________________________________________________________________________________________________\n",
      "dropout (Dropout)               (None, 1568)         0           flatten_1[0][0]                  \n",
      "__________________________________________________________________________________________________\n",
      "dense (Dense)                   (None, 10)           15690       dropout[0][0]                    \n",
      "==================================================================================================\n",
      "Total params: 15,714\n",
      "Trainable params: 15,712\n",
      "Non-trainable params: 2\n",
      "__________________________________________________________________________________________________\n"
     ]
    }
   ],
   "source": [
    "inputs = Input(shape=(28, 28, 1))\n",
    "\n",
    "output_1 = Involution(channel=3, group_number=1, kernel_size=3, stride=1, reduction_ratio=2, name=\"involution_1\")(inputs)\n",
    "output_1 = ReLU()(output_1)\n",
    "output_1 = Concatenate()([output_1, inputs])\n",
    "\n",
    "output_1 = Involution(channel=3, group_number=1, kernel_size=3, stride=1, reduction_ratio=2, name=\"involution_2\")(inputs)\n",
    "output_1 = ReLU()(output_1)\n",
    "\n",
    "output = Concatenate()([output_1, inputs])\n",
    "\n",
    "output = Flatten()(output)\n",
    "output = Dropout(0.5)(output)\n",
    "output = Dense(num_classes, activation=\"softmax\")(output)\n",
    "model = Model(inputs=inputs, outputs=output)\n",
    "\n",
    "model.summary()\n",
    "# keras.utils.plot_model(model, to_file='model.png')\n"
   ]
  },
  {
   "cell_type": "code",
   "execution_count": 5,
   "id": "59be1cd1",
   "metadata": {},
   "outputs": [
    {
     "name": "stdout",
     "output_type": "stream",
     "text": [
      "Epoch 1/20\n",
      "422/422 [==============================] - 4s 10ms/step - loss: 0.6796 - accuracy: 0.7941 - val_loss: 0.2871 - val_accuracy: 0.9197\n",
      "Epoch 2/20\n",
      "422/422 [==============================] - 4s 8ms/step - loss: 0.4173 - accuracy: 0.8794 - val_loss: 0.2558 - val_accuracy: 0.9362\n",
      "Epoch 3/20\n",
      "422/422 [==============================] - 4s 8ms/step - loss: 0.3866 - accuracy: 0.8890 - val_loss: 0.2412 - val_accuracy: 0.9348\n",
      "Epoch 4/20\n",
      "422/422 [==============================] - 4s 8ms/step - loss: 0.3626 - accuracy: 0.8960 - val_loss: 0.2302 - val_accuracy: 0.9358\n",
      "Epoch 5/20\n",
      "422/422 [==============================] - 4s 9ms/step - loss: 0.3470 - accuracy: 0.8983 - val_loss: 0.2133 - val_accuracy: 0.9437\n",
      "Epoch 6/20\n",
      "422/422 [==============================] - 4s 9ms/step - loss: 0.3262 - accuracy: 0.9045 - val_loss: 0.1988 - val_accuracy: 0.9462\n",
      "Epoch 7/20\n",
      "422/422 [==============================] - 4s 9ms/step - loss: 0.3050 - accuracy: 0.9094 - val_loss: 0.1789 - val_accuracy: 0.9522\n",
      "Epoch 8/20\n",
      "422/422 [==============================] - 4s 9ms/step - loss: 0.2809 - accuracy: 0.9167 - val_loss: 0.1636 - val_accuracy: 0.9558\n",
      "Epoch 9/20\n",
      "422/422 [==============================] - 4s 9ms/step - loss: 0.2655 - accuracy: 0.9189 - val_loss: 0.1545 - val_accuracy: 0.9592\n",
      "Epoch 10/20\n",
      "422/422 [==============================] - 4s 10ms/step - loss: 0.2518 - accuracy: 0.9242 - val_loss: 0.1462 - val_accuracy: 0.9610\n",
      "Epoch 11/20\n",
      "422/422 [==============================] - 4s 11ms/step - loss: 0.2469 - accuracy: 0.9247 - val_loss: 0.1436 - val_accuracy: 0.9613\n",
      "Epoch 12/20\n",
      "422/422 [==============================] - 4s 10ms/step - loss: 0.2395 - accuracy: 0.9268 - val_loss: 0.1435 - val_accuracy: 0.9618\n",
      "Epoch 13/20\n",
      "422/422 [==============================] - 4s 11ms/step - loss: 0.2358 - accuracy: 0.9275 - val_loss: 0.1380 - val_accuracy: 0.9617\n",
      "Epoch 14/20\n",
      "422/422 [==============================] - 4s 10ms/step - loss: 0.2299 - accuracy: 0.9290 - val_loss: 0.1340 - val_accuracy: 0.9650\n",
      "Epoch 15/20\n",
      "422/422 [==============================] - 5s 11ms/step - loss: 0.2275 - accuracy: 0.9296 - val_loss: 0.1347 - val_accuracy: 0.9645\n",
      "Epoch 16/20\n",
      "422/422 [==============================] - 5s 11ms/step - loss: 0.2238 - accuracy: 0.9312 - val_loss: 0.1327 - val_accuracy: 0.9653\n",
      "Epoch 17/20\n",
      "422/422 [==============================] - 5s 11ms/step - loss: 0.2198 - accuracy: 0.9331 - val_loss: 0.1300 - val_accuracy: 0.9662\n",
      "Epoch 18/20\n",
      "422/422 [==============================] - 5s 11ms/step - loss: 0.2165 - accuracy: 0.9330 - val_loss: 0.1298 - val_accuracy: 0.9652\n",
      "Epoch 19/20\n",
      "422/422 [==============================] - 5s 11ms/step - loss: 0.2138 - accuracy: 0.9350 - val_loss: 0.1285 - val_accuracy: 0.9662\n",
      "Epoch 20/20\n",
      "422/422 [==============================] - 5s 11ms/step - loss: 0.2142 - accuracy: 0.9335 - val_loss: 0.1276 - val_accuracy: 0.9665\n"
     ]
    },
    {
     "data": {
      "text/plain": [
       "<tensorflow.python.keras.callbacks.History at 0x1c0a2661fc8>"
      ]
     },
     "execution_count": 5,
     "metadata": {},
     "output_type": "execute_result"
    }
   ],
   "source": [
    "batch_size = 128\n",
    "epochs = 20\n",
    "model.compile(loss=\"categorical_crossentropy\", optimizer=\"adam\", metrics=[\"accuracy\"])\n",
    "model.fit(x_train, y_train, batch_size=batch_size, epochs=epochs, validation_split=0.1)"
   ]
  },
  {
   "cell_type": "code",
   "execution_count": 6,
   "id": "9b7bdd10",
   "metadata": {},
   "outputs": [
    {
     "data": {
      "text/plain": [
       "[0.14661769568920135, 0.9598000049591064]"
      ]
     },
     "execution_count": 6,
     "metadata": {},
     "output_type": "execute_result"
    }
   ],
   "source": [
    "score = model.evaluate(x_test, y_test, verbose=0)\n",
    "score"
   ]
  }
 ],
 "metadata": {
  "kernelspec": {
   "display_name": "Python 3 (ipykernel)",
   "language": "python",
   "name": "python3"
  },
  "language_info": {
   "codemirror_mode": {
    "name": "ipython",
    "version": 3
   },
   "file_extension": ".py",
   "mimetype": "text/x-python",
   "name": "python",
   "nbconvert_exporter": "python",
   "pygments_lexer": "ipython3",
   "version": "3.7.11"
  }
 },
 "nbformat": 4,
 "nbformat_minor": 5
}
