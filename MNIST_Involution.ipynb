{
 "cells": [
  {
   "cell_type": "code",
   "execution_count": 1,
   "id": "9abb85e1",
   "metadata": {},
   "outputs": [],
   "source": [
    "import os\n",
    "import cv2\n",
    "import numpy as np\n",
    "import tensorflow.keras as keras\n",
    "import tensorflow as tf\n",
    "from tensorflow.keras import layers,Sequential\n",
    "from tensorflow.keras.layers import Lambda,Dense,ReLU,MaxPooling2D,Flatten\n",
    "from tensorflow.keras.layers import Dense,Input,MaxPool2D,Conv2D,Dropout\n",
    "import matplotlib.pyplot as plt\n",
    "from utils import *\n",
    "from tensorflow.keras.datasets import mnist\n",
    "(x_train, y_train), (x_test, y_test) = keras.datasets.mnist.load_data()"
   ]
  },
  {
   "cell_type": "code",
   "execution_count": 2,
   "id": "fecc47c4",
   "metadata": {},
   "outputs": [
    {
     "name": "stdout",
     "output_type": "stream",
     "text": [
      "x_train shape: (60000, 28, 28, 1)\n",
      "60000 train samples\n",
      "10000 test samples\n"
     ]
    }
   ],
   "source": [
    "num_classes = 10\n",
    "input_shape = (28, 28, 1)\n",
    "(x_train, y_train), (x_test, y_test) = keras.datasets.mnist.load_data()\n",
    "\n",
    "x_train = x_train.astype(\"float32\") / 255\n",
    "x_test = x_test.astype(\"float32\") / 255\n",
    "\n",
    "x_train = np.expand_dims(x_train, -1)\n",
    "x_test = np.expand_dims(x_test, -1)\n",
    "print(\"x_train shape:\", x_train.shape)\n",
    "print(x_train.shape[0], \"train samples\")\n",
    "print(x_test.shape[0], \"test samples\")\n",
    "\n",
    "# convert class vectors to binary class matrices\n",
    "y_train = keras.utils.to_categorical(y_train, num_classes)\n",
    "y_test = keras.utils.to_categorical(y_test, num_classes)"
   ]
  },
  {
   "cell_type": "code",
   "execution_count": 3,
   "id": "2e7c4c23",
   "metadata": {},
   "outputs": [
    {
     "name": "stdout",
     "output_type": "stream",
     "text": [
      "Model: \"sequential\"\n",
      "_________________________________________________________________\n",
      "Layer (type)                 Output Shape              Param #   \n",
      "=================================================================\n",
      "involution_1 (Involution)    (None, 28, 28, 1)         24        \n",
      "_________________________________________________________________\n",
      "re_lu (ReLU)                 (None, 28, 28, 1)         0         \n",
      "_________________________________________________________________\n",
      "involution_2 (Involution)    (None, 28, 28, 1)         24        \n",
      "_________________________________________________________________\n",
      "re_lu_1 (ReLU)               (None, 28, 28, 1)         0         \n",
      "_________________________________________________________________\n",
      "flatten (Flatten)            (None, 784)               0         \n",
      "_________________________________________________________________\n",
      "dropout (Dropout)            (None, 784)               0         \n",
      "_________________________________________________________________\n",
      "dense (Dense)                (None, 10)                7850      \n",
      "=================================================================\n",
      "Total params: 7,898\n",
      "Trainable params: 7,894\n",
      "Non-trainable params: 4\n",
      "_________________________________________________________________\n"
     ]
    }
   ],
   "source": [
    "model = keras.Sequential(\n",
    "    [\n",
    "        Input(shape=(28, 28, 1)),\n",
    "        Involution(channel=3, group_number=1, kernel_size=3, stride=1, reduction_ratio=2, name=\"involution_1\"),\n",
    "        ReLU(),\n",
    "#         layers.MaxPooling2D(pool_size=(2, 2)),\n",
    "        Involution(channel=3, group_number=1, kernel_size=3, stride=1, reduction_ratio=2, name=\"involution_2\"),\n",
    "        ReLU(),        \n",
    "#         layers.MaxPooling2D(pool_size=(2, 2)),\n",
    "        Flatten(),\n",
    "        Dropout(0.5),\n",
    "        Dense(num_classes, activation=\"softmax\"),\n",
    "    ]\n",
    ")\n",
    "\n",
    "model.summary()"
   ]
  },
  {
   "cell_type": "code",
   "execution_count": 4,
   "id": "7e842589",
   "metadata": {},
   "outputs": [
    {
     "name": "stdout",
     "output_type": "stream",
     "text": [
      "Epoch 1/20\n",
      "422/422 [==============================] - 11s 25ms/step - loss: 1.4448 - accuracy: 0.4902 - val_loss: 0.3974 - val_accuracy: 0.9013\n",
      "Epoch 2/20\n",
      "422/422 [==============================] - 10s 23ms/step - loss: 0.4883 - accuracy: 0.8616 - val_loss: 0.2916 - val_accuracy: 0.9180\n",
      "Epoch 3/20\n",
      "422/422 [==============================] - 10s 23ms/step - loss: 0.4227 - accuracy: 0.8789 - val_loss: 0.2702 - val_accuracy: 0.9252\n",
      "Epoch 4/20\n",
      "422/422 [==============================] - 10s 24ms/step - loss: 0.3933 - accuracy: 0.8867 - val_loss: 0.2568 - val_accuracy: 0.9297\n",
      "Epoch 5/20\n",
      "422/422 [==============================] - 10s 24ms/step - loss: 0.3772 - accuracy: 0.8909 - val_loss: 0.2512 - val_accuracy: 0.9315\n",
      "Epoch 6/20\n",
      "422/422 [==============================] - 10s 24ms/step - loss: 0.3658 - accuracy: 0.8932 - val_loss: 0.2465 - val_accuracy: 0.9327\n",
      "Epoch 7/20\n",
      "422/422 [==============================] - 10s 24ms/step - loss: 0.3540 - accuracy: 0.8965 - val_loss: 0.2429 - val_accuracy: 0.9347\n",
      "Epoch 8/20\n",
      "422/422 [==============================] - 10s 25ms/step - loss: 0.3523 - accuracy: 0.8988 - val_loss: 0.2355 - val_accuracy: 0.9378\n",
      "Epoch 9/20\n",
      "422/422 [==============================] - 10s 25ms/step - loss: 0.3411 - accuracy: 0.9011 - val_loss: 0.2286 - val_accuracy: 0.9392\n",
      "Epoch 10/20\n",
      "422/422 [==============================] - 10s 24ms/step - loss: 0.3360 - accuracy: 0.9003 - val_loss: 0.2300 - val_accuracy: 0.9383\n",
      "Epoch 11/20\n",
      "422/422 [==============================] - 10s 24ms/step - loss: 0.3299 - accuracy: 0.9045 - val_loss: 0.2281 - val_accuracy: 0.9375\n",
      "Epoch 12/20\n",
      "422/422 [==============================] - 10s 24ms/step - loss: 0.3251 - accuracy: 0.9036 - val_loss: 0.2259 - val_accuracy: 0.9398\n",
      "Epoch 13/20\n",
      "422/422 [==============================] - 12s 28ms/step - loss: 0.3200 - accuracy: 0.9061 - val_loss: 0.2183 - val_accuracy: 0.9418\n",
      "Epoch 14/20\n",
      "422/422 [==============================] - 11s 26ms/step - loss: 0.3177 - accuracy: 0.9060 - val_loss: 0.2181 - val_accuracy: 0.9417\n",
      "Epoch 15/20\n",
      "422/422 [==============================] - 11s 25ms/step - loss: 0.3130 - accuracy: 0.9068 - val_loss: 0.2168 - val_accuracy: 0.9433\n",
      "Epoch 16/20\n",
      "422/422 [==============================] - 10s 23ms/step - loss: 0.3091 - accuracy: 0.9087 - val_loss: 0.2140 - val_accuracy: 0.9442\n",
      "Epoch 17/20\n",
      "422/422 [==============================] - 10s 24ms/step - loss: 0.3077 - accuracy: 0.9093 - val_loss: 0.2158 - val_accuracy: 0.9442\n",
      "Epoch 18/20\n",
      "422/422 [==============================] - 11s 25ms/step - loss: 0.3038 - accuracy: 0.9101 - val_loss: 0.2122 - val_accuracy: 0.9438\n",
      "Epoch 19/20\n",
      "422/422 [==============================] - 11s 26ms/step - loss: 0.3043 - accuracy: 0.9106 - val_loss: 0.2168 - val_accuracy: 0.9427\n",
      "Epoch 20/20\n",
      "422/422 [==============================] - 10s 25ms/step - loss: 0.3020 - accuracy: 0.9100 - val_loss: 0.2070 - val_accuracy: 0.9460\n"
     ]
    },
    {
     "data": {
      "text/plain": [
       "<tensorflow.python.keras.callbacks.History at 0x19600a9cd08>"
      ]
     },
     "execution_count": 4,
     "metadata": {},
     "output_type": "execute_result"
    }
   ],
   "source": [
    "batch_size = 128\n",
    "epochs = 20\n",
    "model.compile(loss=\"categorical_crossentropy\", optimizer=\"adam\", metrics=[\"accuracy\"])\n",
    "model.fit(x_train, y_train, batch_size=batch_size, epochs=epochs, validation_split=0.1)"
   ]
  },
  {
   "cell_type": "code",
   "execution_count": 5,
   "id": "a2f39ee9",
   "metadata": {},
   "outputs": [
    {
     "data": {
      "text/plain": [
       "[0.22451689839363098, 0.9352999925613403]"
      ]
     },
     "execution_count": 5,
     "metadata": {},
     "output_type": "execute_result"
    }
   ],
   "source": [
    "score = model.evaluate(x_test, y_test, verbose=0)\n",
    "score"
   ]
  }
 ],
 "metadata": {
  "kernelspec": {
   "display_name": "Python 3 (ipykernel)",
   "language": "python",
   "name": "python3"
  },
  "language_info": {
   "codemirror_mode": {
    "name": "ipython",
    "version": 3
   },
   "file_extension": ".py",
   "mimetype": "text/x-python",
   "name": "python",
   "nbconvert_exporter": "python",
   "pygments_lexer": "ipython3",
   "version": "3.7.11"
  }
 },
 "nbformat": 4,
 "nbformat_minor": 5
}
