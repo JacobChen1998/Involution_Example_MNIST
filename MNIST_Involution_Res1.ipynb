{
 "cells": [
  {
   "cell_type": "code",
   "execution_count": 1,
   "id": "9abb85e1",
   "metadata": {},
   "outputs": [],
   "source": [
    "import os\n",
    "import cv2\n",
    "import numpy as np\n",
    "import tensorflow.keras as keras\n",
    "import tensorflow as tf\n",
    "from tensorflow.keras import layers,Sequential\n",
    "from tensorflow.keras.layers import Lambda,Dense,ReLU,MaxPooling2D,Flatten\n",
    "from tensorflow.keras.layers import Dense,Input,MaxPool2D,Conv2D,Dropout,Add\n",
    "import matplotlib.pyplot as plt\n",
    "from utils import *\n",
    "from tensorflow.keras.models import Model\n",
    "\n",
    "from tensorflow.keras.datasets import mnist\n",
    "(x_train, y_train), (x_test, y_test) = keras.datasets.mnist.load_data()"
   ]
  },
  {
   "cell_type": "code",
   "execution_count": 2,
   "id": "fecc47c4",
   "metadata": {},
   "outputs": [
    {
     "name": "stdout",
     "output_type": "stream",
     "text": [
      "x_train shape: (60000, 28, 28, 1)\n",
      "60000 train samples\n",
      "10000 test samples\n"
     ]
    }
   ],
   "source": [
    "num_classes = 10\n",
    "input_shape = (28, 28, 1)\n",
    "(x_train, y_train), (x_test, y_test) = keras.datasets.mnist.load_data()\n",
    "\n",
    "x_train = x_train.astype(\"float32\") / 255\n",
    "x_test = x_test.astype(\"float32\") / 255\n",
    "\n",
    "x_train = np.expand_dims(x_train, -1)\n",
    "x_test = np.expand_dims(x_test, -1)\n",
    "print(\"x_train shape:\", x_train.shape)\n",
    "print(x_train.shape[0], \"train samples\")\n",
    "print(x_test.shape[0], \"test samples\")\n",
    "\n",
    "# convert class vectors to binary class matrices\n",
    "y_train = keras.utils.to_categorical(y_train, num_classes)\n",
    "y_test = keras.utils.to_categorical(y_test, num_classes)"
   ]
  },
  {
   "cell_type": "code",
   "execution_count": 3,
   "id": "2cb0083e",
   "metadata": {},
   "outputs": [
    {
     "name": "stdout",
     "output_type": "stream",
     "text": [
      "Model: \"functional_1\"\n",
      "__________________________________________________________________________________________________\n",
      "Layer (type)                    Output Shape         Param #     Connected to                     \n",
      "==================================================================================================\n",
      "input_1 (InputLayer)            [(None, 28, 28, 1)]  0                                            \n",
      "__________________________________________________________________________________________________\n",
      "involution_1 (Involution)       (None, 28, 28, 1)    24          input_1[0][0]                    \n",
      "__________________________________________________________________________________________________\n",
      "re_lu (ReLU)                    (None, 28, 28, 1)    0           involution_1[0][0]               \n",
      "__________________________________________________________________________________________________\n",
      "add (Add)                       (None, 28, 28, 1)    0           re_lu[0][0]                      \n",
      "                                                                 input_1[0][0]                    \n",
      "__________________________________________________________________________________________________\n",
      "involution_2 (Involution)       (None, 28, 28, 1)    24          add[0][0]                        \n",
      "__________________________________________________________________________________________________\n",
      "re_lu_1 (ReLU)                  (None, 28, 28, 1)    0           involution_2[0][0]               \n",
      "__________________________________________________________________________________________________\n",
      "flatten (Flatten)               (None, 784)          0           re_lu_1[0][0]                    \n",
      "__________________________________________________________________________________________________\n",
      "dropout (Dropout)               (None, 784)          0           flatten[0][0]                    \n",
      "__________________________________________________________________________________________________\n",
      "dense (Dense)                   (None, 10)           7850        dropout[0][0]                    \n",
      "==================================================================================================\n",
      "Total params: 7,898\n",
      "Trainable params: 7,894\n",
      "Non-trainable params: 4\n",
      "__________________________________________________________________________________________________\n"
     ]
    }
   ],
   "source": [
    "inputs = Input(shape=(28, 28, 1))\n",
    "output_1 = Involution(channel=3, group_number=1, kernel_size=3, stride=1, reduction_ratio=2, name=\"involution_1\")(inputs)\n",
    "output_1 = ReLU()(output_1)\n",
    "output_1 = Add()([output_1, inputs])\n",
    "\n",
    "\n",
    "output_1 = Involution(channel=3, group_number=1, kernel_size=3, stride=1, reduction_ratio=2, name=\"involution_2\")(output_1)\n",
    "output_1 = ReLU()(output_1)\n",
    "output_1 = Flatten()(output_1)\n",
    "output_1 = Dropout(0.5)(output_1)\n",
    "output_1 = Dense(num_classes, activation=\"softmax\")(output_1)\n",
    "model = Model(inputs=inputs, outputs=output_1)\n",
    "\n",
    "model.summary()"
   ]
  },
  {
   "cell_type": "code",
   "execution_count": 4,
   "id": "7e842589",
   "metadata": {},
   "outputs": [
    {
     "name": "stdout",
     "output_type": "stream",
     "text": [
      "Epoch 1/20\n",
      "422/422 [==============================] - 11s 26ms/step - loss: 0.8844 - accuracy: 0.7188 - val_loss: 0.2935 - val_accuracy: 0.9192\n",
      "Epoch 2/20\n",
      "422/422 [==============================] - 10s 24ms/step - loss: 0.4449 - accuracy: 0.8674 - val_loss: 0.2645 - val_accuracy: 0.9280\n",
      "Epoch 3/20\n",
      "422/422 [==============================] - 10s 25ms/step - loss: 0.4164 - accuracy: 0.8778 - val_loss: 0.2490 - val_accuracy: 0.9313\n",
      "Epoch 4/20\n",
      "422/422 [==============================] - 10s 24ms/step - loss: 0.3995 - accuracy: 0.8836 - val_loss: 0.2439 - val_accuracy: 0.9315\n",
      "Epoch 5/20\n",
      "422/422 [==============================] - 10s 25ms/step - loss: 0.3897 - accuracy: 0.8859 - val_loss: 0.2380 - val_accuracy: 0.9317\n",
      "Epoch 6/20\n",
      "422/422 [==============================] - 13s 30ms/step - loss: 0.3810 - accuracy: 0.8896 - val_loss: 0.2337 - val_accuracy: 0.9337\n",
      "Epoch 7/20\n",
      "422/422 [==============================] - 11s 27ms/step - loss: 0.3716 - accuracy: 0.8908 - val_loss: 0.2331 - val_accuracy: 0.9345\n",
      "Epoch 8/20\n",
      "422/422 [==============================] - 11s 25ms/step - loss: 0.3624 - accuracy: 0.8953 - val_loss: 0.2263 - val_accuracy: 0.9372\n",
      "Epoch 9/20\n",
      "422/422 [==============================] - 10s 24ms/step - loss: 0.3585 - accuracy: 0.8944 - val_loss: 0.2192 - val_accuracy: 0.9400\n",
      "Epoch 10/20\n",
      "422/422 [==============================] - 10s 24ms/step - loss: 0.3485 - accuracy: 0.8975 - val_loss: 0.2171 - val_accuracy: 0.9423\n",
      "Epoch 11/20\n",
      "422/422 [==============================] - 10s 25ms/step - loss: 0.3428 - accuracy: 0.8993 - val_loss: 0.2134 - val_accuracy: 0.9415\n",
      "Epoch 12/20\n",
      "422/422 [==============================] - 10s 24ms/step - loss: 0.3384 - accuracy: 0.9023 - val_loss: 0.2101 - val_accuracy: 0.9425\n",
      "Epoch 13/20\n",
      "422/422 [==============================] - 10s 24ms/step - loss: 0.3310 - accuracy: 0.9021 - val_loss: 0.2100 - val_accuracy: 0.9423\n",
      "Epoch 14/20\n",
      "422/422 [==============================] - 10s 24ms/step - loss: 0.3285 - accuracy: 0.9028 - val_loss: 0.1996 - val_accuracy: 0.9450\n",
      "Epoch 15/20\n",
      "422/422 [==============================] - 11s 25ms/step - loss: 0.3271 - accuracy: 0.9040 - val_loss: 0.1976 - val_accuracy: 0.9447\n",
      "Epoch 16/20\n",
      "422/422 [==============================] - 11s 25ms/step - loss: 0.3165 - accuracy: 0.9065 - val_loss: 0.1987 - val_accuracy: 0.9455\n",
      "Epoch 17/20\n",
      "422/422 [==============================] - 11s 25ms/step - loss: 0.3109 - accuracy: 0.9069 - val_loss: 0.1924 - val_accuracy: 0.9460\n",
      "Epoch 18/20\n",
      "422/422 [==============================] - 10s 25ms/step - loss: 0.3103 - accuracy: 0.9075 - val_loss: 0.1913 - val_accuracy: 0.9477\n",
      "Epoch 19/20\n",
      "422/422 [==============================] - 10s 24ms/step - loss: 0.3053 - accuracy: 0.9102 - val_loss: 0.1855 - val_accuracy: 0.9488\n",
      "Epoch 20/20\n",
      "422/422 [==============================] - 10s 25ms/step - loss: 0.3015 - accuracy: 0.9102 - val_loss: 0.1870 - val_accuracy: 0.9463\n"
     ]
    },
    {
     "data": {
      "text/plain": [
       "<tensorflow.python.keras.callbacks.History at 0x268348e5848>"
      ]
     },
     "execution_count": 4,
     "metadata": {},
     "output_type": "execute_result"
    }
   ],
   "source": [
    "batch_size = 128\n",
    "epochs = 20\n",
    "model.compile(loss=\"categorical_crossentropy\", optimizer=\"adam\", metrics=[\"accuracy\"])\n",
    "model.fit(x_train, y_train, batch_size=batch_size, epochs=epochs, validation_split=0.1)"
   ]
  },
  {
   "cell_type": "code",
   "execution_count": 5,
   "id": "bb07356b",
   "metadata": {},
   "outputs": [
    {
     "data": {
      "text/plain": [
       "[0.20953820645809174, 0.9390000104904175]"
      ]
     },
     "execution_count": 5,
     "metadata": {},
     "output_type": "execute_result"
    }
   ],
   "source": [
    "score = model.evaluate(x_test, y_test, verbose=0)\n",
    "score"
   ]
  },
  {
   "cell_type": "code",
   "execution_count": null,
   "id": "dd05b1c8",
   "metadata": {},
   "outputs": [],
   "source": []
  }
 ],
 "metadata": {
  "kernelspec": {
   "display_name": "Python 3 (ipykernel)",
   "language": "python",
   "name": "python3"
  },
  "language_info": {
   "codemirror_mode": {
    "name": "ipython",
    "version": 3
   },
   "file_extension": ".py",
   "mimetype": "text/x-python",
   "name": "python",
   "nbconvert_exporter": "python",
   "pygments_lexer": "ipython3",
   "version": "3.7.11"
  }
 },
 "nbformat": 4,
 "nbformat_minor": 5
}
