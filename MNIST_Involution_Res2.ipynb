{
 "cells": [
  {
   "cell_type": "code",
   "execution_count": 1,
   "id": "9abb85e1",
   "metadata": {},
   "outputs": [],
   "source": [
    "import os\n",
    "import cv2\n",
    "import numpy as np\n",
    "import tensorflow.keras as keras\n",
    "import tensorflow as tf\n",
    "from tensorflow.keras import layers,Sequential\n",
    "from tensorflow.keras.layers import Lambda,Dense,ReLU,MaxPooling2D,Flatten\n",
    "from tensorflow.keras.layers import Dense,Input,MaxPool2D,Conv2D,Dropout,Add\n",
    "import matplotlib.pyplot as plt\n",
    "from utils import *\n",
    "from tensorflow.keras.models import Model\n",
    "\n",
    "from tensorflow.keras.datasets import mnist\n",
    "(x_train, y_train), (x_test, y_test) = keras.datasets.mnist.load_data()"
   ]
  },
  {
   "cell_type": "code",
   "execution_count": 2,
   "id": "fecc47c4",
   "metadata": {},
   "outputs": [
    {
     "name": "stdout",
     "output_type": "stream",
     "text": [
      "x_train shape: (60000, 28, 28, 1)\n",
      "60000 train samples\n",
      "10000 test samples\n"
     ]
    }
   ],
   "source": [
    "num_classes = 10\n",
    "input_shape = (28, 28, 1)\n",
    "(x_train, y_train), (x_test, y_test) = keras.datasets.mnist.load_data()\n",
    "\n",
    "x_train = x_train.astype(\"float32\") / 255\n",
    "x_test = x_test.astype(\"float32\") / 255\n",
    "\n",
    "x_train = np.expand_dims(x_train, -1)\n",
    "x_test = np.expand_dims(x_test, -1)\n",
    "print(\"x_train shape:\", x_train.shape)\n",
    "print(x_train.shape[0], \"train samples\")\n",
    "print(x_test.shape[0], \"test samples\")\n",
    "\n",
    "# convert class vectors to binary class matrices\n",
    "y_train = keras.utils.to_categorical(y_train, num_classes)\n",
    "y_test = keras.utils.to_categorical(y_test, num_classes)"
   ]
  },
  {
   "cell_type": "code",
   "execution_count": 3,
   "id": "6c91390e",
   "metadata": {},
   "outputs": [
    {
     "name": "stdout",
     "output_type": "stream",
     "text": [
      "Model: \"functional_1\"\n",
      "__________________________________________________________________________________________________\n",
      "Layer (type)                    Output Shape         Param #     Connected to                     \n",
      "==================================================================================================\n",
      "input_1 (InputLayer)            [(None, 28, 28, 1)]  0                                            \n",
      "__________________________________________________________________________________________________\n",
      "involution_1 (Involution)       (None, 28, 28, 1)    24          input_1[0][0]                    \n",
      "__________________________________________________________________________________________________\n",
      "re_lu (ReLU)                    (None, 28, 28, 1)    0           involution_1[0][0]               \n",
      "__________________________________________________________________________________________________\n",
      "add (Add)                       (None, 28, 28, 1)    0           re_lu[0][0]                      \n",
      "                                                                 input_1[0][0]                    \n",
      "__________________________________________________________________________________________________\n",
      "flatten (Flatten)               (None, 784)          0           add[0][0]                        \n",
      "__________________________________________________________________________________________________\n",
      "dropout (Dropout)               (None, 784)          0           flatten[0][0]                    \n",
      "__________________________________________________________________________________________________\n",
      "dense (Dense)                   (None, 10)           7850        dropout[0][0]                    \n",
      "==================================================================================================\n",
      "Total params: 7,874\n",
      "Trainable params: 7,872\n",
      "Non-trainable params: 2\n",
      "__________________________________________________________________________________________________\n"
     ]
    }
   ],
   "source": [
    "inputs = Input(shape=(28, 28, 1))\n",
    "output_1 = Involution(channel=3, group_number=1, kernel_size=3, stride=1, reduction_ratio=2, name=\"involution_1\")(inputs)\n",
    "output_1 = ReLU()(output_1)\n",
    "output_1 = Add()([output_1, inputs])\n",
    "\n",
    "output_2 = Involution(channel=3, group_number=1, kernel_size=3, stride=1, reduction_ratio=2, name=\"involution_2\")(output_1)\n",
    "output_2 = ReLU()(output_2)\n",
    "output_2 = Add()([output_2, output_1])\n",
    "\n",
    "output_1 = Flatten()(output_1)\n",
    "output_1 = Dropout(0.5)(output_1)\n",
    "output_1 = Dense(num_classes, activation=\"softmax\")(output_1)\n",
    "model = Model(inputs=inputs, outputs=output_1)\n",
    "\n",
    "model.summary()"
   ]
  },
  {
   "cell_type": "code",
   "execution_count": 4,
   "id": "7e842589",
   "metadata": {},
   "outputs": [
    {
     "name": "stdout",
     "output_type": "stream",
     "text": [
      "Epoch 1/20\n",
      "422/422 [==============================] - 5s 12ms/step - loss: 0.8209 - accuracy: 0.7475 - val_loss: 0.3163 - val_accuracy: 0.9187\n",
      "Epoch 2/20\n",
      "422/422 [==============================] - 5s 11ms/step - loss: 0.4860 - accuracy: 0.8607 - val_loss: 0.2784 - val_accuracy: 0.9232\n",
      "Epoch 3/20\n",
      "422/422 [==============================] - 5s 11ms/step - loss: 0.4488 - accuracy: 0.8702 - val_loss: 0.2631 - val_accuracy: 0.9295\n",
      "Epoch 4/20\n",
      "422/422 [==============================] - 4s 11ms/step - loss: 0.4304 - accuracy: 0.8753 - val_loss: 0.2584 - val_accuracy: 0.9287\n",
      "Epoch 5/20\n",
      "422/422 [==============================] - 5s 11ms/step - loss: 0.4228 - accuracy: 0.8773 - val_loss: 0.2521 - val_accuracy: 0.9317\n",
      "Epoch 6/20\n",
      "422/422 [==============================] - 4s 11ms/step - loss: 0.4188 - accuracy: 0.8784 - val_loss: 0.2521 - val_accuracy: 0.9310\n",
      "Epoch 7/20\n",
      "422/422 [==============================] - 5s 11ms/step - loss: 0.4143 - accuracy: 0.8797 - val_loss: 0.2454 - val_accuracy: 0.9328\n",
      "Epoch 8/20\n",
      "422/422 [==============================] - 5s 11ms/step - loss: 0.4138 - accuracy: 0.8791 - val_loss: 0.2457 - val_accuracy: 0.9327\n",
      "Epoch 9/20\n",
      "422/422 [==============================] - 5s 11ms/step - loss: 0.4111 - accuracy: 0.8806 - val_loss: 0.2426 - val_accuracy: 0.9303\n",
      "Epoch 10/20\n",
      "422/422 [==============================] - 5s 11ms/step - loss: 0.4070 - accuracy: 0.8812 - val_loss: 0.2393 - val_accuracy: 0.9343\n",
      "Epoch 11/20\n",
      "422/422 [==============================] - 5s 11ms/step - loss: 0.4054 - accuracy: 0.8814 - val_loss: 0.2404 - val_accuracy: 0.9332\n",
      "Epoch 12/20\n",
      "422/422 [==============================] - 5s 12ms/step - loss: 0.4067 - accuracy: 0.8811 - val_loss: 0.2420 - val_accuracy: 0.9362\n",
      "Epoch 13/20\n",
      "422/422 [==============================] - 5s 13ms/step - loss: 0.4023 - accuracy: 0.8825 - val_loss: 0.2415 - val_accuracy: 0.9362\n",
      "Epoch 14/20\n",
      "422/422 [==============================] - 5s 12ms/step - loss: 0.4040 - accuracy: 0.8833 - val_loss: 0.2442 - val_accuracy: 0.9320\n",
      "Epoch 15/20\n",
      "422/422 [==============================] - 5s 12ms/step - loss: 0.4001 - accuracy: 0.8826 - val_loss: 0.2412 - val_accuracy: 0.9348\n",
      "Epoch 16/20\n",
      "422/422 [==============================] - 6s 13ms/step - loss: 0.3999 - accuracy: 0.8831 - val_loss: 0.2393 - val_accuracy: 0.9350\n",
      "Epoch 17/20\n",
      "422/422 [==============================] - 6s 13ms/step - loss: 0.3983 - accuracy: 0.8837 - val_loss: 0.2382 - val_accuracy: 0.9342\n",
      "Epoch 18/20\n",
      "422/422 [==============================] - 5s 13ms/step - loss: 0.4005 - accuracy: 0.8816 - val_loss: 0.2390 - val_accuracy: 0.9352\n",
      "Epoch 19/20\n",
      "422/422 [==============================] - 5s 13ms/step - loss: 0.4024 - accuracy: 0.8827 - val_loss: 0.2401 - val_accuracy: 0.9348\n",
      "Epoch 20/20\n",
      "422/422 [==============================] - 5s 13ms/step - loss: 0.3979 - accuracy: 0.8842 - val_loss: 0.2411 - val_accuracy: 0.9348\n"
     ]
    },
    {
     "data": {
      "text/plain": [
       "<tensorflow.python.keras.callbacks.History at 0x1942f8b3408>"
      ]
     },
     "execution_count": 4,
     "metadata": {},
     "output_type": "execute_result"
    }
   ],
   "source": [
    "batch_size = 128\n",
    "epochs = 20\n",
    "model.compile(loss=\"categorical_crossentropy\", optimizer=\"adam\", metrics=[\"accuracy\"])\n",
    "model.fit(x_train, y_train, batch_size=batch_size, epochs=epochs, validation_split=0.1)"
   ]
  },
  {
   "cell_type": "code",
   "execution_count": 5,
   "id": "bb07356b",
   "metadata": {},
   "outputs": [
    {
     "data": {
      "text/plain": [
       "[0.2921508550643921, 0.9193000197410583]"
      ]
     },
     "execution_count": 5,
     "metadata": {},
     "output_type": "execute_result"
    }
   ],
   "source": [
    "score = model.evaluate(x_test, y_test, verbose=0)\n",
    "score"
   ]
  },
  {
   "cell_type": "code",
   "execution_count": null,
   "id": "5ccfbdbe",
   "metadata": {},
   "outputs": [],
   "source": []
  }
 ],
 "metadata": {
  "kernelspec": {
   "display_name": "Python 3 (ipykernel)",
   "language": "python",
   "name": "python3"
  },
  "language_info": {
   "codemirror_mode": {
    "name": "ipython",
    "version": 3
   },
   "file_extension": ".py",
   "mimetype": "text/x-python",
   "name": "python",
   "nbconvert_exporter": "python",
   "pygments_lexer": "ipython3",
   "version": "3.7.11"
  }
 },
 "nbformat": 4,
 "nbformat_minor": 5
}
